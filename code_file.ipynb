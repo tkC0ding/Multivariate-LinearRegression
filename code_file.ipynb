{
 "cells": [
  {
   "cell_type": "markdown",
   "metadata": {},
   "source": [
    "# Importing Libraries"
   ]
  },
  {
   "cell_type": "code",
   "execution_count": 230,
   "metadata": {},
   "outputs": [],
   "source": [
    "import pandas as pd\n",
    "import numpy as np"
   ]
  },
  {
   "cell_type": "markdown",
   "metadata": {},
   "source": [
    "# Building Algorithm"
   ]
  },
  {
   "cell_type": "code",
   "execution_count": 231,
   "metadata": {},
   "outputs": [],
   "source": [
    "class MultivariateLinearRegression:\n",
    "    def __init__(self, learning_rate, epochs):\n",
    "        self.learning_rate = learning_rate\n",
    "        self.epochs = epochs\n",
    "        self.theta_vector = np.array([])\n",
    "    \n",
    "    def fit(self, x, y):\n",
    "        x['x0'] = np.ones((x.shape[0]))\n",
    "        col_i = list(x.columns)\n",
    "        cols = ['x0'] + col_i[:-1]\n",
    "        x = x[cols]\n",
    "\n",
    "        X = np.array([list(i) for i in list(x.values)])\n",
    "        self.theta_vector = np.zeros((len(X[0]), 1))\n",
    "        Y = np.array(y)\n",
    "        Y = Y.reshape((Y.size, 1))\n",
    "\n",
    "        m = Y.size\n",
    "\n",
    "        for _ in range(self.epochs):\n",
    "            predictions = np.matmul(X, self.theta_vector)\n",
    "\n",
    "            errors = predictions - Y\n",
    "\n",
    "            self.theta_vector = self.theta_vector - (self.learning_rate/m)*np.matmul(X.T, errors)\n",
    "    \n",
    "    def predict(self, x_test):\n",
    "        x_test['x0'] = np.ones((x_test.shape[0]))\n",
    "        x_test_cols_i = list(x_test.columns)\n",
    "        x_test_cols = ['x0'] + x_test_cols_i[:-1]\n",
    "        x_test = x_test[x_test_cols]\n",
    "\n",
    "        X = np.array([list(i) for i in list(x_test.values)])\n",
    "\n",
    "        predictions = np.matmul(X, self.theta_vector)\n",
    "\n",
    "        return(predictions)"
   ]
  },
  {
   "cell_type": "markdown",
   "metadata": {},
   "source": [
    "# Making Prediction and testing"
   ]
  },
  {
   "cell_type": "code",
   "execution_count": 232,
   "metadata": {},
   "outputs": [],
   "source": [
    "model = MultivariateLinearRegression(0.0001, 100)"
   ]
  },
  {
   "cell_type": "code",
   "execution_count": 233,
   "metadata": {},
   "outputs": [],
   "source": [
    "df = pd.read_csv('Multivariate_Linear_Regression.csv')"
   ]
  },
  {
   "cell_type": "code",
   "execution_count": 234,
   "metadata": {},
   "outputs": [
    {
     "data": {
      "text/html": [
       "<div>\n",
       "<style scoped>\n",
       "    .dataframe tbody tr th:only-of-type {\n",
       "        vertical-align: middle;\n",
       "    }\n",
       "\n",
       "    .dataframe tbody tr th {\n",
       "        vertical-align: top;\n",
       "    }\n",
       "\n",
       "    .dataframe thead th {\n",
       "        text-align: right;\n",
       "    }\n",
       "</style>\n",
       "<table border=\"1\" class=\"dataframe\">\n",
       "  <thead>\n",
       "    <tr style=\"text-align: right;\">\n",
       "      <th></th>\n",
       "      <th>X1</th>\n",
       "      <th>X2</th>\n",
       "      <th>X3</th>\n",
       "      <th>X4</th>\n",
       "      <th>y</th>\n",
       "    </tr>\n",
       "  </thead>\n",
       "  <tbody>\n",
       "    <tr>\n",
       "      <th>0</th>\n",
       "      <td>20.631730</td>\n",
       "      <td>12.867703</td>\n",
       "      <td>8.395460</td>\n",
       "      <td>13.990905</td>\n",
       "      <td>189.031908</td>\n",
       "    </tr>\n",
       "    <tr>\n",
       "      <th>1</th>\n",
       "      <td>4.101116</td>\n",
       "      <td>5.433219</td>\n",
       "      <td>3.563688</td>\n",
       "      <td>7.586737</td>\n",
       "      <td>65.410833</td>\n",
       "    </tr>\n",
       "    <tr>\n",
       "      <th>2</th>\n",
       "      <td>11.924915</td>\n",
       "      <td>-4.457952</td>\n",
       "      <td>4.307833</td>\n",
       "      <td>-3.869729</td>\n",
       "      <td>34.669369</td>\n",
       "    </tr>\n",
       "    <tr>\n",
       "      <th>3</th>\n",
       "      <td>33.079571</td>\n",
       "      <td>13.541840</td>\n",
       "      <td>0.573275</td>\n",
       "      <td>5.720989</td>\n",
       "      <td>189.053144</td>\n",
       "    </tr>\n",
       "    <tr>\n",
       "      <th>4</th>\n",
       "      <td>23.595950</td>\n",
       "      <td>14.390700</td>\n",
       "      <td>2.435688</td>\n",
       "      <td>28.890003</td>\n",
       "      <td>215.060877</td>\n",
       "    </tr>\n",
       "  </tbody>\n",
       "</table>\n",
       "</div>"
      ],
      "text/plain": [
       "          X1         X2        X3         X4           y\n",
       "0  20.631730  12.867703  8.395460  13.990905  189.031908\n",
       "1   4.101116   5.433219  3.563688   7.586737   65.410833\n",
       "2  11.924915  -4.457952  4.307833  -3.869729   34.669369\n",
       "3  33.079571  13.541840  0.573275   5.720989  189.053144\n",
       "4  23.595950  14.390700  2.435688  28.890003  215.060877"
      ]
     },
     "execution_count": 234,
     "metadata": {},
     "output_type": "execute_result"
    }
   ],
   "source": [
    "df.head()"
   ]
  },
  {
   "cell_type": "code",
   "execution_count": 235,
   "metadata": {},
   "outputs": [],
   "source": [
    "X_train = df.drop(columns='y')\n",
    "Y_train = df['y']"
   ]
  },
  {
   "cell_type": "code",
   "execution_count": 236,
   "metadata": {},
   "outputs": [],
   "source": [
    "model.fit(X_train, Y_train)"
   ]
  },
  {
   "cell_type": "code",
   "execution_count": 237,
   "metadata": {},
   "outputs": [],
   "source": [
    "x = X_train.head(1)"
   ]
  },
  {
   "cell_type": "code",
   "execution_count": 238,
   "metadata": {},
   "outputs": [
    {
     "data": {
      "text/html": [
       "<div>\n",
       "<style scoped>\n",
       "    .dataframe tbody tr th:only-of-type {\n",
       "        vertical-align: middle;\n",
       "    }\n",
       "\n",
       "    .dataframe tbody tr th {\n",
       "        vertical-align: top;\n",
       "    }\n",
       "\n",
       "    .dataframe thead th {\n",
       "        text-align: right;\n",
       "    }\n",
       "</style>\n",
       "<table border=\"1\" class=\"dataframe\">\n",
       "  <thead>\n",
       "    <tr style=\"text-align: right;\">\n",
       "      <th></th>\n",
       "      <th>X1</th>\n",
       "      <th>X2</th>\n",
       "      <th>X3</th>\n",
       "      <th>X4</th>\n",
       "    </tr>\n",
       "  </thead>\n",
       "  <tbody>\n",
       "    <tr>\n",
       "      <th>0</th>\n",
       "      <td>20.63173</td>\n",
       "      <td>12.867703</td>\n",
       "      <td>8.39546</td>\n",
       "      <td>13.990905</td>\n",
       "    </tr>\n",
       "  </tbody>\n",
       "</table>\n",
       "</div>"
      ],
      "text/plain": [
       "         X1         X2       X3         X4\n",
       "0  20.63173  12.867703  8.39546  13.990905"
      ]
     },
     "execution_count": 238,
     "metadata": {},
     "output_type": "execute_result"
    }
   ],
   "source": [
    "x = x.drop(columns='x0')\n",
    "x"
   ]
  },
  {
   "cell_type": "code",
   "execution_count": 239,
   "metadata": {},
   "outputs": [],
   "source": [
    "prediction = model.predict(x)"
   ]
  },
  {
   "cell_type": "code",
   "execution_count": 240,
   "metadata": {},
   "outputs": [
    {
     "data": {
      "text/plain": [
       "array([[184.6232667]])"
      ]
     },
     "execution_count": 240,
     "metadata": {},
     "output_type": "execute_result"
    }
   ],
   "source": [
    "prediction"
   ]
  },
  {
   "cell_type": "code",
   "execution_count": 241,
   "metadata": {},
   "outputs": [
    {
     "name": "stdout",
     "output_type": "stream",
     "text": [
      "[[184.6232667]] 189.03190793437685\n"
     ]
    }
   ],
   "source": [
    "print(prediction, Y_train[0])"
   ]
  },
  {
   "cell_type": "markdown",
   "metadata": {},
   "source": [
    "# Success I guess : )"
   ]
  }
 ],
 "metadata": {
  "kernelspec": {
   "display_name": "tf",
   "language": "python",
   "name": "python3"
  },
  "language_info": {
   "codemirror_mode": {
    "name": "ipython",
    "version": 3
   },
   "file_extension": ".py",
   "mimetype": "text/x-python",
   "name": "python",
   "nbconvert_exporter": "python",
   "pygments_lexer": "ipython3",
   "version": "3.9.18"
  }
 },
 "nbformat": 4,
 "nbformat_minor": 2
}
