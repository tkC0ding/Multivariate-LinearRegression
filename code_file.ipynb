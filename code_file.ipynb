{
 "cells": [
  {
   "cell_type": "markdown",
   "metadata": {},
   "source": [
    "# Importing Libraries"
   ]
  },
  {
   "cell_type": "code",
   "execution_count": 1,
   "metadata": {},
   "outputs": [],
   "source": [
    "import pandas as pd\n",
    "import numpy as np"
   ]
  },
  {
   "cell_type": "markdown",
   "metadata": {},
   "source": [
    "# Building Algorithm"
   ]
  },
  {
   "cell_type": "code",
   "execution_count": 2,
   "metadata": {},
   "outputs": [],
   "source": [
    "class MultivariateLinearRegression:\n",
    "    def __init__(self, learning_rate, epochs):\n",
    "        self.learning_rate = learning_rate\n",
    "        self.epochs = epochs\n",
    "        self.theta_vector = np.array([])\n",
    "    \n",
    "    def fit(self, x, y):\n",
    "        x['x0'] = np.ones((x.shape[0]))\n",
    "        col_i = list(x.columns)\n",
    "        cols = ['x0'] + col_i[:-1]\n",
    "        x = x[cols]\n",
    "\n",
    "        X = np.array([list(i) for i in list(x.values)])\n",
    "        self.theta_vector = np.zeros((len(X[0]), 1))\n",
    "        Y = np.array(y)\n",
    "        Y = Y.reshape((Y.size, 1))\n",
    "\n",
    "        m = Y.size\n",
    "\n",
    "        for _ in range(self.epochs):\n",
    "            predictions = np.matmul(X, self.theta_vector)\n",
    "\n",
    "            errors = predictions - Y\n",
    "\n",
    "            self.theta_vector = self.theta_vector - (self.learning_rate/m)*np.matmul(X.T, errors)\n",
    "    \n",
    "    def predict(self, x_test):\n",
    "        x_test['x0'] = np.ones((x_test.shape[0]))\n",
    "        x_test_cols_i = list(x_test.columns)\n",
    "        x_test_cols = ['x0'] + x_test_cols_i[:-1]\n",
    "        x_test = x_test[x_test_cols]\n",
    "\n",
    "        X = np.array([list(i) for i in list(x_test.values)])\n",
    "\n",
    "        predictions = np.matmul(X, self.theta_vector)\n",
    "\n",
    "        return(predictions)"
   ]
  },
  {
   "cell_type": "markdown",
   "metadata": {},
   "source": [
    "# Making Prediction and testing"
   ]
  },
  {
   "cell_type": "code",
   "execution_count": 80,
   "metadata": {},
   "outputs": [],
   "source": [
    "model = MultivariateLinearRegression(0.036, 1000)"
   ]
  },
  {
   "cell_type": "code",
   "execution_count": 81,
   "metadata": {},
   "outputs": [],
   "source": [
    "df = pd.read_csv('Multivariate_Linear_Regression.csv')"
   ]
  },
  {
   "cell_type": "code",
   "execution_count": 82,
   "metadata": {},
   "outputs": [
    {
     "data": {
      "text/html": [
       "<div>\n",
       "<style scoped>\n",
       "    .dataframe tbody tr th:only-of-type {\n",
       "        vertical-align: middle;\n",
       "    }\n",
       "\n",
       "    .dataframe tbody tr th {\n",
       "        vertical-align: top;\n",
       "    }\n",
       "\n",
       "    .dataframe thead th {\n",
       "        text-align: right;\n",
       "    }\n",
       "</style>\n",
       "<table border=\"1\" class=\"dataframe\">\n",
       "  <thead>\n",
       "    <tr style=\"text-align: right;\">\n",
       "      <th></th>\n",
       "      <th>X1</th>\n",
       "      <th>X2</th>\n",
       "      <th>X3</th>\n",
       "      <th>X4</th>\n",
       "      <th>y</th>\n",
       "    </tr>\n",
       "  </thead>\n",
       "  <tbody>\n",
       "    <tr>\n",
       "      <th>0</th>\n",
       "      <td>20.631730</td>\n",
       "      <td>12.867703</td>\n",
       "      <td>8.395460</td>\n",
       "      <td>13.990905</td>\n",
       "      <td>189.031908</td>\n",
       "    </tr>\n",
       "    <tr>\n",
       "      <th>1</th>\n",
       "      <td>4.101116</td>\n",
       "      <td>5.433219</td>\n",
       "      <td>3.563688</td>\n",
       "      <td>7.586737</td>\n",
       "      <td>65.410833</td>\n",
       "    </tr>\n",
       "    <tr>\n",
       "      <th>2</th>\n",
       "      <td>11.924915</td>\n",
       "      <td>-4.457952</td>\n",
       "      <td>4.307833</td>\n",
       "      <td>-3.869729</td>\n",
       "      <td>34.669369</td>\n",
       "    </tr>\n",
       "    <tr>\n",
       "      <th>3</th>\n",
       "      <td>33.079571</td>\n",
       "      <td>13.541840</td>\n",
       "      <td>0.573275</td>\n",
       "      <td>5.720989</td>\n",
       "      <td>189.053144</td>\n",
       "    </tr>\n",
       "    <tr>\n",
       "      <th>4</th>\n",
       "      <td>23.595950</td>\n",
       "      <td>14.390700</td>\n",
       "      <td>2.435688</td>\n",
       "      <td>28.890003</td>\n",
       "      <td>215.060877</td>\n",
       "    </tr>\n",
       "  </tbody>\n",
       "</table>\n",
       "</div>"
      ],
      "text/plain": [
       "          X1         X2        X3         X4           y\n",
       "0  20.631730  12.867703  8.395460  13.990905  189.031908\n",
       "1   4.101116   5.433219  3.563688   7.586737   65.410833\n",
       "2  11.924915  -4.457952  4.307833  -3.869729   34.669369\n",
       "3  33.079571  13.541840  0.573275   5.720989  189.053144\n",
       "4  23.595950  14.390700  2.435688  28.890003  215.060877"
      ]
     },
     "execution_count": 82,
     "metadata": {},
     "output_type": "execute_result"
    }
   ],
   "source": [
    "df.head()"
   ]
  },
  {
   "cell_type": "code",
   "execution_count": 83,
   "metadata": {},
   "outputs": [],
   "source": [
    "X_train = df.drop(columns='y')\n",
    "Y_train = df['y']"
   ]
  },
  {
   "cell_type": "markdown",
   "metadata": {},
   "source": [
    "# Applying Feature Scaling"
   ]
  },
  {
   "cell_type": "code",
   "execution_count": 84,
   "metadata": {},
   "outputs": [
    {
     "data": {
      "text/html": [
       "<div>\n",
       "<style scoped>\n",
       "    .dataframe tbody tr th:only-of-type {\n",
       "        vertical-align: middle;\n",
       "    }\n",
       "\n",
       "    .dataframe tbody tr th {\n",
       "        vertical-align: top;\n",
       "    }\n",
       "\n",
       "    .dataframe thead th {\n",
       "        text-align: right;\n",
       "    }\n",
       "</style>\n",
       "<table border=\"1\" class=\"dataframe\">\n",
       "  <thead>\n",
       "    <tr style=\"text-align: right;\">\n",
       "      <th></th>\n",
       "      <th>X1</th>\n",
       "      <th>X2</th>\n",
       "      <th>X3</th>\n",
       "      <th>X4</th>\n",
       "    </tr>\n",
       "  </thead>\n",
       "  <tbody>\n",
       "    <tr>\n",
       "      <th>0</th>\n",
       "      <td>-0.036956</td>\n",
       "      <td>-0.055399</td>\n",
       "      <td>0.171494</td>\n",
       "      <td>0.039037</td>\n",
       "    </tr>\n",
       "    <tr>\n",
       "      <th>1</th>\n",
       "      <td>-0.337649</td>\n",
       "      <td>-0.241290</td>\n",
       "      <td>-0.070188</td>\n",
       "      <td>-0.143945</td>\n",
       "    </tr>\n",
       "    <tr>\n",
       "      <th>2</th>\n",
       "      <td>-0.195334</td>\n",
       "      <td>-0.488608</td>\n",
       "      <td>-0.032966</td>\n",
       "      <td>-0.471281</td>\n",
       "    </tr>\n",
       "    <tr>\n",
       "      <th>3</th>\n",
       "      <td>0.189470</td>\n",
       "      <td>-0.038543</td>\n",
       "      <td>-0.219766</td>\n",
       "      <td>-0.197253</td>\n",
       "    </tr>\n",
       "    <tr>\n",
       "      <th>4</th>\n",
       "      <td>0.016963</td>\n",
       "      <td>-0.017319</td>\n",
       "      <td>-0.126609</td>\n",
       "      <td>0.464736</td>\n",
       "    </tr>\n",
       "  </tbody>\n",
       "</table>\n",
       "</div>"
      ],
      "text/plain": [
       "         X1        X2        X3        X4\n",
       "0 -0.036956 -0.055399  0.171494  0.039037\n",
       "1 -0.337649 -0.241290 -0.070188 -0.143945\n",
       "2 -0.195334 -0.488608 -0.032966 -0.471281\n",
       "3  0.189470 -0.038543 -0.219766 -0.197253\n",
       "4  0.016963 -0.017319 -0.126609  0.464736"
      ]
     },
     "execution_count": 84,
     "metadata": {},
     "output_type": "execute_result"
    }
   ],
   "source": [
    "cols_list = list(X_train.columns)\n",
    "for col in cols_list:\n",
    "    mean = X_train[col].mean()\n",
    "    maxi = X_train[col].max()\n",
    "    mini = X_train[col].min()\n",
    "    r = maxi - mini\n",
    "    X_train[col] = (X_train[col] - mean)/r\n",
    "\n",
    "X_train.head()"
   ]
  },
  {
   "cell_type": "code",
   "execution_count": 85,
   "metadata": {},
   "outputs": [],
   "source": [
    "model.fit(X_train, Y_train)"
   ]
  },
  {
   "cell_type": "code",
   "execution_count": 86,
   "metadata": {},
   "outputs": [],
   "source": [
    "x = X_train.head(1)"
   ]
  },
  {
   "cell_type": "code",
   "execution_count": 87,
   "metadata": {},
   "outputs": [
    {
     "data": {
      "text/html": [
       "<div>\n",
       "<style scoped>\n",
       "    .dataframe tbody tr th:only-of-type {\n",
       "        vertical-align: middle;\n",
       "    }\n",
       "\n",
       "    .dataframe tbody tr th {\n",
       "        vertical-align: top;\n",
       "    }\n",
       "\n",
       "    .dataframe thead th {\n",
       "        text-align: right;\n",
       "    }\n",
       "</style>\n",
       "<table border=\"1\" class=\"dataframe\">\n",
       "  <thead>\n",
       "    <tr style=\"text-align: right;\">\n",
       "      <th></th>\n",
       "      <th>X1</th>\n",
       "      <th>X2</th>\n",
       "      <th>X3</th>\n",
       "      <th>X4</th>\n",
       "    </tr>\n",
       "  </thead>\n",
       "  <tbody>\n",
       "    <tr>\n",
       "      <th>0</th>\n",
       "      <td>-0.036956</td>\n",
       "      <td>-0.055399</td>\n",
       "      <td>0.171494</td>\n",
       "      <td>0.039037</td>\n",
       "    </tr>\n",
       "  </tbody>\n",
       "</table>\n",
       "</div>"
      ],
      "text/plain": [
       "         X1        X2        X3        X4\n",
       "0 -0.036956 -0.055399  0.171494  0.039037"
      ]
     },
     "execution_count": 87,
     "metadata": {},
     "output_type": "execute_result"
    }
   ],
   "source": [
    "x = x.drop(columns='x0')\n",
    "x"
   ]
  },
  {
   "cell_type": "code",
   "execution_count": 88,
   "metadata": {},
   "outputs": [],
   "source": [
    "prediction = model.predict(x)"
   ]
  },
  {
   "cell_type": "code",
   "execution_count": 89,
   "metadata": {},
   "outputs": [
    {
     "data": {
      "text/plain": [
       "array([[194.9699752]])"
      ]
     },
     "execution_count": 89,
     "metadata": {},
     "output_type": "execute_result"
    }
   ],
   "source": [
    "prediction"
   ]
  },
  {
   "cell_type": "code",
   "execution_count": 90,
   "metadata": {},
   "outputs": [
    {
     "name": "stdout",
     "output_type": "stream",
     "text": [
      "[[194.9699752]] 189.03190793437685\n"
     ]
    }
   ],
   "source": [
    "print(prediction, Y_train[0])"
   ]
  },
  {
   "cell_type": "markdown",
   "metadata": {},
   "source": [
    "# Success I guess : )"
   ]
  },
  {
   "cell_type": "markdown",
   "metadata": {},
   "source": [
    "### Cannot plot the graph for this but the problem with the last commit was that the number of epochs was less and thus the prediction line only passed through one point properly but on increasing the epochs the model gets better"
   ]
  }
 ],
 "metadata": {
  "kernelspec": {
   "display_name": "tf",
   "language": "python",
   "name": "python3"
  },
  "language_info": {
   "codemirror_mode": {
    "name": "ipython",
    "version": 3
   },
   "file_extension": ".py",
   "mimetype": "text/x-python",
   "name": "python",
   "nbconvert_exporter": "python",
   "pygments_lexer": "ipython3",
   "version": "3.9.18"
  }
 },
 "nbformat": 4,
 "nbformat_minor": 2
}
