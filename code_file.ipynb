{
 "cells": [
  {
   "cell_type": "markdown",
   "metadata": {},
   "source": [
    "# Importing Libraries"
   ]
  },
  {
   "cell_type": "code",
   "execution_count": 14,
   "metadata": {},
   "outputs": [],
   "source": [
    "import numpy as np\n",
    "import pandas as pd\n",
    "import matplotlib.pyplot as plt"
   ]
  },
  {
   "cell_type": "markdown",
   "metadata": {},
   "source": [
    "# Importing dataset and Preprocessing It"
   ]
  },
  {
   "cell_type": "code",
   "execution_count": 15,
   "metadata": {},
   "outputs": [
    {
     "data": {
      "text/html": [
       "<div>\n",
       "<style scoped>\n",
       "    .dataframe tbody tr th:only-of-type {\n",
       "        vertical-align: middle;\n",
       "    }\n",
       "\n",
       "    .dataframe tbody tr th {\n",
       "        vertical-align: top;\n",
       "    }\n",
       "\n",
       "    .dataframe thead th {\n",
       "        text-align: right;\n",
       "    }\n",
       "</style>\n",
       "<table border=\"1\" class=\"dataframe\">\n",
       "  <thead>\n",
       "    <tr style=\"text-align: right;\">\n",
       "      <th></th>\n",
       "      <th>X1</th>\n",
       "      <th>X2</th>\n",
       "      <th>X3</th>\n",
       "      <th>X4</th>\n",
       "      <th>y</th>\n",
       "    </tr>\n",
       "  </thead>\n",
       "  <tbody>\n",
       "    <tr>\n",
       "      <th>0</th>\n",
       "      <td>20.631730</td>\n",
       "      <td>12.867703</td>\n",
       "      <td>8.395460</td>\n",
       "      <td>13.990905</td>\n",
       "      <td>189.031908</td>\n",
       "    </tr>\n",
       "    <tr>\n",
       "      <th>1</th>\n",
       "      <td>4.101116</td>\n",
       "      <td>5.433219</td>\n",
       "      <td>3.563688</td>\n",
       "      <td>7.586737</td>\n",
       "      <td>65.410833</td>\n",
       "    </tr>\n",
       "    <tr>\n",
       "      <th>2</th>\n",
       "      <td>11.924915</td>\n",
       "      <td>-4.457952</td>\n",
       "      <td>4.307833</td>\n",
       "      <td>-3.869729</td>\n",
       "      <td>34.669369</td>\n",
       "    </tr>\n",
       "    <tr>\n",
       "      <th>3</th>\n",
       "      <td>33.079571</td>\n",
       "      <td>13.541840</td>\n",
       "      <td>0.573275</td>\n",
       "      <td>5.720989</td>\n",
       "      <td>189.053144</td>\n",
       "    </tr>\n",
       "    <tr>\n",
       "      <th>4</th>\n",
       "      <td>23.595950</td>\n",
       "      <td>14.390700</td>\n",
       "      <td>2.435688</td>\n",
       "      <td>28.890003</td>\n",
       "      <td>215.060877</td>\n",
       "    </tr>\n",
       "  </tbody>\n",
       "</table>\n",
       "</div>"
      ],
      "text/plain": [
       "          X1         X2        X3         X4           y\n",
       "0  20.631730  12.867703  8.395460  13.990905  189.031908\n",
       "1   4.101116   5.433219  3.563688   7.586737   65.410833\n",
       "2  11.924915  -4.457952  4.307833  -3.869729   34.669369\n",
       "3  33.079571  13.541840  0.573275   5.720989  189.053144\n",
       "4  23.595950  14.390700  2.435688  28.890003  215.060877"
      ]
     },
     "execution_count": 15,
     "metadata": {},
     "output_type": "execute_result"
    }
   ],
   "source": [
    "df = pd.read_csv('Multivariate_Linear_Regression.csv')\n",
    "df.head()"
   ]
  },
  {
   "cell_type": "code",
   "execution_count": 16,
   "metadata": {},
   "outputs": [],
   "source": [
    "X = df.drop(columns='y')\n",
    "Y = df['y']"
   ]
  },
  {
   "cell_type": "code",
   "execution_count": 17,
   "metadata": {},
   "outputs": [
    {
     "data": {
      "text/html": [
       "<div>\n",
       "<style scoped>\n",
       "    .dataframe tbody tr th:only-of-type {\n",
       "        vertical-align: middle;\n",
       "    }\n",
       "\n",
       "    .dataframe tbody tr th {\n",
       "        vertical-align: top;\n",
       "    }\n",
       "\n",
       "    .dataframe thead th {\n",
       "        text-align: right;\n",
       "    }\n",
       "</style>\n",
       "<table border=\"1\" class=\"dataframe\">\n",
       "  <thead>\n",
       "    <tr style=\"text-align: right;\">\n",
       "      <th></th>\n",
       "      <th>X1</th>\n",
       "      <th>X2</th>\n",
       "      <th>X3</th>\n",
       "      <th>X4</th>\n",
       "    </tr>\n",
       "  </thead>\n",
       "  <tbody>\n",
       "    <tr>\n",
       "      <th>0</th>\n",
       "      <td>20.631730</td>\n",
       "      <td>12.867703</td>\n",
       "      <td>8.395460</td>\n",
       "      <td>13.990905</td>\n",
       "    </tr>\n",
       "    <tr>\n",
       "      <th>1</th>\n",
       "      <td>4.101116</td>\n",
       "      <td>5.433219</td>\n",
       "      <td>3.563688</td>\n",
       "      <td>7.586737</td>\n",
       "    </tr>\n",
       "    <tr>\n",
       "      <th>2</th>\n",
       "      <td>11.924915</td>\n",
       "      <td>-4.457952</td>\n",
       "      <td>4.307833</td>\n",
       "      <td>-3.869729</td>\n",
       "    </tr>\n",
       "    <tr>\n",
       "      <th>3</th>\n",
       "      <td>33.079571</td>\n",
       "      <td>13.541840</td>\n",
       "      <td>0.573275</td>\n",
       "      <td>5.720989</td>\n",
       "    </tr>\n",
       "    <tr>\n",
       "      <th>4</th>\n",
       "      <td>23.595950</td>\n",
       "      <td>14.390700</td>\n",
       "      <td>2.435688</td>\n",
       "      <td>28.890003</td>\n",
       "    </tr>\n",
       "  </tbody>\n",
       "</table>\n",
       "</div>"
      ],
      "text/plain": [
       "          X1         X2        X3         X4\n",
       "0  20.631730  12.867703  8.395460  13.990905\n",
       "1   4.101116   5.433219  3.563688   7.586737\n",
       "2  11.924915  -4.457952  4.307833  -3.869729\n",
       "3  33.079571  13.541840  0.573275   5.720989\n",
       "4  23.595950  14.390700  2.435688  28.890003"
      ]
     },
     "execution_count": 17,
     "metadata": {},
     "output_type": "execute_result"
    }
   ],
   "source": [
    "X.head()"
   ]
  },
  {
   "cell_type": "code",
   "execution_count": 18,
   "metadata": {},
   "outputs": [],
   "source": [
    "X['X0'] = np.ones((X['X1'].size))"
   ]
  },
  {
   "cell_type": "code",
   "execution_count": 19,
   "metadata": {},
   "outputs": [
    {
     "data": {
      "text/html": [
       "<div>\n",
       "<style scoped>\n",
       "    .dataframe tbody tr th:only-of-type {\n",
       "        vertical-align: middle;\n",
       "    }\n",
       "\n",
       "    .dataframe tbody tr th {\n",
       "        vertical-align: top;\n",
       "    }\n",
       "\n",
       "    .dataframe thead th {\n",
       "        text-align: right;\n",
       "    }\n",
       "</style>\n",
       "<table border=\"1\" class=\"dataframe\">\n",
       "  <thead>\n",
       "    <tr style=\"text-align: right;\">\n",
       "      <th></th>\n",
       "      <th>X1</th>\n",
       "      <th>X2</th>\n",
       "      <th>X3</th>\n",
       "      <th>X4</th>\n",
       "      <th>X0</th>\n",
       "    </tr>\n",
       "  </thead>\n",
       "  <tbody>\n",
       "    <tr>\n",
       "      <th>0</th>\n",
       "      <td>20.631730</td>\n",
       "      <td>12.867703</td>\n",
       "      <td>8.395460</td>\n",
       "      <td>13.990905</td>\n",
       "      <td>1.0</td>\n",
       "    </tr>\n",
       "    <tr>\n",
       "      <th>1</th>\n",
       "      <td>4.101116</td>\n",
       "      <td>5.433219</td>\n",
       "      <td>3.563688</td>\n",
       "      <td>7.586737</td>\n",
       "      <td>1.0</td>\n",
       "    </tr>\n",
       "    <tr>\n",
       "      <th>2</th>\n",
       "      <td>11.924915</td>\n",
       "      <td>-4.457952</td>\n",
       "      <td>4.307833</td>\n",
       "      <td>-3.869729</td>\n",
       "      <td>1.0</td>\n",
       "    </tr>\n",
       "    <tr>\n",
       "      <th>3</th>\n",
       "      <td>33.079571</td>\n",
       "      <td>13.541840</td>\n",
       "      <td>0.573275</td>\n",
       "      <td>5.720989</td>\n",
       "      <td>1.0</td>\n",
       "    </tr>\n",
       "    <tr>\n",
       "      <th>4</th>\n",
       "      <td>23.595950</td>\n",
       "      <td>14.390700</td>\n",
       "      <td>2.435688</td>\n",
       "      <td>28.890003</td>\n",
       "      <td>1.0</td>\n",
       "    </tr>\n",
       "  </tbody>\n",
       "</table>\n",
       "</div>"
      ],
      "text/plain": [
       "          X1         X2        X3         X4   X0\n",
       "0  20.631730  12.867703  8.395460  13.990905  1.0\n",
       "1   4.101116   5.433219  3.563688   7.586737  1.0\n",
       "2  11.924915  -4.457952  4.307833  -3.869729  1.0\n",
       "3  33.079571  13.541840  0.573275   5.720989  1.0\n",
       "4  23.595950  14.390700  2.435688  28.890003  1.0"
      ]
     },
     "execution_count": 19,
     "metadata": {},
     "output_type": "execute_result"
    }
   ],
   "source": [
    "X.head()"
   ]
  },
  {
   "cell_type": "code",
   "execution_count": 20,
   "metadata": {},
   "outputs": [],
   "source": [
    "X = X.iloc[:, [4, 0, 1, 2, 3]]"
   ]
  },
  {
   "cell_type": "code",
   "execution_count": 21,
   "metadata": {},
   "outputs": [
    {
     "data": {
      "text/html": [
       "<div>\n",
       "<style scoped>\n",
       "    .dataframe tbody tr th:only-of-type {\n",
       "        vertical-align: middle;\n",
       "    }\n",
       "\n",
       "    .dataframe tbody tr th {\n",
       "        vertical-align: top;\n",
       "    }\n",
       "\n",
       "    .dataframe thead th {\n",
       "        text-align: right;\n",
       "    }\n",
       "</style>\n",
       "<table border=\"1\" class=\"dataframe\">\n",
       "  <thead>\n",
       "    <tr style=\"text-align: right;\">\n",
       "      <th></th>\n",
       "      <th>X0</th>\n",
       "      <th>X1</th>\n",
       "      <th>X2</th>\n",
       "      <th>X3</th>\n",
       "      <th>X4</th>\n",
       "    </tr>\n",
       "  </thead>\n",
       "  <tbody>\n",
       "    <tr>\n",
       "      <th>0</th>\n",
       "      <td>1.0</td>\n",
       "      <td>20.631730</td>\n",
       "      <td>12.867703</td>\n",
       "      <td>8.395460</td>\n",
       "      <td>13.990905</td>\n",
       "    </tr>\n",
       "    <tr>\n",
       "      <th>1</th>\n",
       "      <td>1.0</td>\n",
       "      <td>4.101116</td>\n",
       "      <td>5.433219</td>\n",
       "      <td>3.563688</td>\n",
       "      <td>7.586737</td>\n",
       "    </tr>\n",
       "    <tr>\n",
       "      <th>2</th>\n",
       "      <td>1.0</td>\n",
       "      <td>11.924915</td>\n",
       "      <td>-4.457952</td>\n",
       "      <td>4.307833</td>\n",
       "      <td>-3.869729</td>\n",
       "    </tr>\n",
       "    <tr>\n",
       "      <th>3</th>\n",
       "      <td>1.0</td>\n",
       "      <td>33.079571</td>\n",
       "      <td>13.541840</td>\n",
       "      <td>0.573275</td>\n",
       "      <td>5.720989</td>\n",
       "    </tr>\n",
       "    <tr>\n",
       "      <th>4</th>\n",
       "      <td>1.0</td>\n",
       "      <td>23.595950</td>\n",
       "      <td>14.390700</td>\n",
       "      <td>2.435688</td>\n",
       "      <td>28.890003</td>\n",
       "    </tr>\n",
       "  </tbody>\n",
       "</table>\n",
       "</div>"
      ],
      "text/plain": [
       "    X0         X1         X2        X3         X4\n",
       "0  1.0  20.631730  12.867703  8.395460  13.990905\n",
       "1  1.0   4.101116   5.433219  3.563688   7.586737\n",
       "2  1.0  11.924915  -4.457952  4.307833  -3.869729\n",
       "3  1.0  33.079571  13.541840  0.573275   5.720989\n",
       "4  1.0  23.595950  14.390700  2.435688  28.890003"
      ]
     },
     "execution_count": 21,
     "metadata": {},
     "output_type": "execute_result"
    }
   ],
   "source": [
    "X.head()"
   ]
  },
  {
   "cell_type": "markdown",
   "metadata": {},
   "source": [
    "# Creating Hypothesis Function"
   ]
  },
  {
   "cell_type": "code",
   "execution_count": 22,
   "metadata": {},
   "outputs": [],
   "source": [
    "def hypothesis(theta_vector:list, x_record:list):\n",
    "    y_pred = np.array(theta_vector) @ np.array(x_record)\n",
    "    return(y_pred)"
   ]
  },
  {
   "cell_type": "markdown",
   "metadata": {},
   "source": [
    "# Creating Cost Function"
   ]
  },
  {
   "cell_type": "code",
   "execution_count": 23,
   "metadata": {},
   "outputs": [],
   "source": [
    "def CostFunction(theta_vector:list, x:pd.DataFrame, y:pd.DataFrame):\n",
    "    s = 0\n",
    "    X = [list(i) for i in list(x.values)]\n",
    "    Y = list(y)\n",
    "    m = len(Y)\n",
    "    for (i,j) in zip(X,Y):\n",
    "        s += ((hypothesis(theta_vector, i) - j)**2)\n",
    "    error = s/(2*m)\n",
    "    return(error)"
   ]
  },
  {
   "cell_type": "markdown",
   "metadata": {},
   "source": [
    "# Defining &theta; vector"
   ]
  },
  {
   "cell_type": "code",
   "execution_count": 24,
   "metadata": {},
   "outputs": [
    {
     "data": {
      "text/plain": [
       "[0.0, 0.0, 0.0, 0.0, 0.0]"
      ]
     },
     "execution_count": 24,
     "metadata": {},
     "output_type": "execute_result"
    }
   ],
   "source": [
    "theta_vector = list(np.zeros((len(X.columns))))\n",
    "theta_vector"
   ]
  },
  {
   "cell_type": "code",
   "execution_count": null,
   "metadata": {},
   "outputs": [],
   "source": []
  }
 ],
 "metadata": {
  "kernelspec": {
   "display_name": "tf",
   "language": "python",
   "name": "python3"
  },
  "language_info": {
   "codemirror_mode": {
    "name": "ipython",
    "version": 3
   },
   "file_extension": ".py",
   "mimetype": "text/x-python",
   "name": "python",
   "nbconvert_exporter": "python",
   "pygments_lexer": "ipython3",
   "version": "3.9.18"
  }
 },
 "nbformat": 4,
 "nbformat_minor": 2
}
